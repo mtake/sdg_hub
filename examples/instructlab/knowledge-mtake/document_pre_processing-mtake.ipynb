{
 "cells": [
  {
   "cell_type": "markdown",
   "metadata": {},
   "source": [
    "# Preparing Document for Data generation\n",
    "- This notebook will show you how to do document parsing\n",
    "- Document Chunking\n",
    "- And finally mixing it with user QNA to  create seed examples"
   ]
  },
  {
   "cell_type": "markdown",
   "metadata": {},
   "source": [
    "## Install SDG\n",
    "\n",
    "```bash \n",
    "pip install sdg-hub==0.1.0a2\n",
    "pip install rich datasets tabulate transformers\n",
    "```"
   ]
  },
  {
   "cell_type": "code",
   "execution_count": null,
   "metadata": {},
   "outputs": [],
   "source": [
    "%%capture\n",
    "%pip install rich datasets tabulate transformers\n",
    "%pip install docling"
   ]
  },
  {
   "cell_type": "code",
   "execution_count": null,
   "metadata": {},
   "outputs": [],
   "source": [
    "import datetime\n",
    "import os\n",
    "\n",
    "now = datetime.datetime.now()\n",
    "timestamp = now.strftime('%Y%m%d-%H%M%S')\n",
    "\n",
    "os.environ['TOKENIZERS_PARALLELISM'] = 'false'"
   ]
  },
  {
   "cell_type": "markdown",
   "metadata": {},
   "source": [
    "## Select a document"
   ]
  },
  {
   "cell_type": "markdown",
   "metadata": {},
   "source": [
    "### 2024 IBM Annual Report"
   ]
  },
  {
   "cell_type": "code",
   "execution_count": null,
   "metadata": {},
   "outputs": [],
   "source": [
    "data_dir = 'document_collection/ibm-annual-report'\n",
    "user_config_path = f'{data_dir}/qna.yaml'\n",
    "list_md_files = [f\"{data_dir}/ibm-annual-report-2024.md\"]"
   ]
  },
  {
   "cell_type": "markdown",
   "metadata": {},
   "source": [
    "### Teigaku Genzei"
   ]
  },
  {
   "cell_type": "code",
   "execution_count": null,
   "metadata": {},
   "outputs": [],
   "source": [
    "data_dir = 'document_collection/teigaku-genzei'\n",
    "user_config_path = f'{data_dir}/qna_ja.yaml'\n",
    "list_md_files = [f\"{data_dir}/0024001-021.md\"]"
   ]
  },
  {
   "cell_type": "markdown",
   "metadata": {},
   "source": [
    "## Initialize common variables"
   ]
  },
  {
   "cell_type": "code",
   "execution_count": null,
   "metadata": {},
   "outputs": [],
   "source": [
    "data_name = os.path.basename(data_dir)\n",
    "\n",
    "seed_data_path = f\"{data_dir}/seed_data_{data_name}.jsonl\"\n",
    "# seed_data_path = f\"{data_dir}/seed_data_{data_name}_{timestamp}.jsonl\""
   ]
  },
  {
   "cell_type": "markdown",
   "metadata": {},
   "source": [
    "## Pre-process a document using docling v2"
   ]
  },
  {
   "cell_type": "code",
   "execution_count": null,
   "metadata": {},
   "outputs": [],
   "source": [
    "# !OMP_NUM_THREADS=32 mamba run -n docling python ../scripts/docparser_v2.py --input-dir {data_dir} --output-dir {data_dir} --c docling_v2_config.yaml\n",
    "!python docparser_v2.py --input-dir {data_dir} --output-dir {data_dir} -c docling_v2_config.yaml"
   ]
  },
  {
   "cell_type": "markdown",
   "metadata": {},
   "source": [
    "## Create Seed Examples"
   ]
  },
  {
   "cell_type": "code",
   "execution_count": null,
   "metadata": {},
   "outputs": [],
   "source": [
    "from sdg_hub.utils.docprocessor import DocProcessor\n",
    "\n",
    "dp = DocProcessor(data_dir, user_config_path=user_config_path)\n",
    "\n",
    "### Using markdown file\n",
    "# Note: For now v2 json is not supported\n",
    "seed_data = dp.get_processed_markdown_dataset(list_md_files)\n",
    "\n",
    "# seed_data.to_json(seed_data_path, orient='records', lines=True)\n",
    "seed_data.to_json(seed_data_path, orient='records', lines=True, force_ascii=False)"
   ]
  }
 ],
 "metadata": {
  "kernelspec": {
   "display_name": "sdg_hub-py311",
   "language": "python",
   "name": "python3"
  },
  "language_info": {
   "codemirror_mode": {
    "name": "ipython",
    "version": 3
   },
   "file_extension": ".py",
   "mimetype": "text/x-python",
   "name": "python",
   "nbconvert_exporter": "python",
   "pygments_lexer": "ipython3",
   "version": "3.11.11"
  }
 },
 "nbformat": 4,
 "nbformat_minor": 2
}
